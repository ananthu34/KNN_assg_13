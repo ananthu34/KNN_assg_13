{
 "cells": [
  {
   "cell_type": "markdown",
   "metadata": {},
   "source": [
    "## Importing necessary libraries"
   ]
  },
  {
   "cell_type": "code",
   "execution_count": 1,
   "metadata": {},
   "outputs": [],
   "source": [
    "#Import necessary libraries\n",
    "from sklearn.model_selection import train_test_split\n",
    "from sklearn.neighbors import KNeighborsClassifier\n",
    "from sklearn.metrics import accuracy_score\n",
    "from sklearn.preprocessing import StandardScaler\n",
    "from sklearn.model_selection import cross_val_score\n",
    "\n",
    "import pandas as pd\n",
    "import matplotlib.pyplot as plt\n",
    "\n",
    "import warnings\n",
    "warnings.filterwarnings('ignore')"
   ]
  },
  {
   "cell_type": "markdown",
   "metadata": {},
   "source": [
    "## Import data"
   ]
  },
  {
   "cell_type": "code",
   "execution_count": 2,
   "metadata": {},
   "outputs": [
    {
     "data": {
      "text/html": [
       "<div>\n",
       "<style scoped>\n",
       "    .dataframe tbody tr th:only-of-type {\n",
       "        vertical-align: middle;\n",
       "    }\n",
       "\n",
       "    .dataframe tbody tr th {\n",
       "        vertical-align: top;\n",
       "    }\n",
       "\n",
       "    .dataframe thead th {\n",
       "        text-align: right;\n",
       "    }\n",
       "</style>\n",
       "<table border=\"1\" class=\"dataframe\">\n",
       "  <thead>\n",
       "    <tr style=\"text-align: right;\">\n",
       "      <th></th>\n",
       "      <th>RI</th>\n",
       "      <th>Na</th>\n",
       "      <th>Mg</th>\n",
       "      <th>Al</th>\n",
       "      <th>Si</th>\n",
       "      <th>K</th>\n",
       "      <th>Ca</th>\n",
       "      <th>Ba</th>\n",
       "      <th>Fe</th>\n",
       "      <th>Type</th>\n",
       "    </tr>\n",
       "  </thead>\n",
       "  <tbody>\n",
       "    <tr>\n",
       "      <th>0</th>\n",
       "      <td>1.52101</td>\n",
       "      <td>13.64</td>\n",
       "      <td>4.49</td>\n",
       "      <td>1.10</td>\n",
       "      <td>71.78</td>\n",
       "      <td>0.06</td>\n",
       "      <td>8.75</td>\n",
       "      <td>0.00</td>\n",
       "      <td>0.0</td>\n",
       "      <td>1</td>\n",
       "    </tr>\n",
       "    <tr>\n",
       "      <th>1</th>\n",
       "      <td>1.51761</td>\n",
       "      <td>13.89</td>\n",
       "      <td>3.60</td>\n",
       "      <td>1.36</td>\n",
       "      <td>72.73</td>\n",
       "      <td>0.48</td>\n",
       "      <td>7.83</td>\n",
       "      <td>0.00</td>\n",
       "      <td>0.0</td>\n",
       "      <td>1</td>\n",
       "    </tr>\n",
       "    <tr>\n",
       "      <th>2</th>\n",
       "      <td>1.51618</td>\n",
       "      <td>13.53</td>\n",
       "      <td>3.55</td>\n",
       "      <td>1.54</td>\n",
       "      <td>72.99</td>\n",
       "      <td>0.39</td>\n",
       "      <td>7.78</td>\n",
       "      <td>0.00</td>\n",
       "      <td>0.0</td>\n",
       "      <td>1</td>\n",
       "    </tr>\n",
       "    <tr>\n",
       "      <th>3</th>\n",
       "      <td>1.51766</td>\n",
       "      <td>13.21</td>\n",
       "      <td>3.69</td>\n",
       "      <td>1.29</td>\n",
       "      <td>72.61</td>\n",
       "      <td>0.57</td>\n",
       "      <td>8.22</td>\n",
       "      <td>0.00</td>\n",
       "      <td>0.0</td>\n",
       "      <td>1</td>\n",
       "    </tr>\n",
       "    <tr>\n",
       "      <th>4</th>\n",
       "      <td>1.51742</td>\n",
       "      <td>13.27</td>\n",
       "      <td>3.62</td>\n",
       "      <td>1.24</td>\n",
       "      <td>73.08</td>\n",
       "      <td>0.55</td>\n",
       "      <td>8.07</td>\n",
       "      <td>0.00</td>\n",
       "      <td>0.0</td>\n",
       "      <td>1</td>\n",
       "    </tr>\n",
       "    <tr>\n",
       "      <th>...</th>\n",
       "      <td>...</td>\n",
       "      <td>...</td>\n",
       "      <td>...</td>\n",
       "      <td>...</td>\n",
       "      <td>...</td>\n",
       "      <td>...</td>\n",
       "      <td>...</td>\n",
       "      <td>...</td>\n",
       "      <td>...</td>\n",
       "      <td>...</td>\n",
       "    </tr>\n",
       "    <tr>\n",
       "      <th>209</th>\n",
       "      <td>1.51623</td>\n",
       "      <td>14.14</td>\n",
       "      <td>0.00</td>\n",
       "      <td>2.88</td>\n",
       "      <td>72.61</td>\n",
       "      <td>0.08</td>\n",
       "      <td>9.18</td>\n",
       "      <td>1.06</td>\n",
       "      <td>0.0</td>\n",
       "      <td>7</td>\n",
       "    </tr>\n",
       "    <tr>\n",
       "      <th>210</th>\n",
       "      <td>1.51685</td>\n",
       "      <td>14.92</td>\n",
       "      <td>0.00</td>\n",
       "      <td>1.99</td>\n",
       "      <td>73.06</td>\n",
       "      <td>0.00</td>\n",
       "      <td>8.40</td>\n",
       "      <td>1.59</td>\n",
       "      <td>0.0</td>\n",
       "      <td>7</td>\n",
       "    </tr>\n",
       "    <tr>\n",
       "      <th>211</th>\n",
       "      <td>1.52065</td>\n",
       "      <td>14.36</td>\n",
       "      <td>0.00</td>\n",
       "      <td>2.02</td>\n",
       "      <td>73.42</td>\n",
       "      <td>0.00</td>\n",
       "      <td>8.44</td>\n",
       "      <td>1.64</td>\n",
       "      <td>0.0</td>\n",
       "      <td>7</td>\n",
       "    </tr>\n",
       "    <tr>\n",
       "      <th>212</th>\n",
       "      <td>1.51651</td>\n",
       "      <td>14.38</td>\n",
       "      <td>0.00</td>\n",
       "      <td>1.94</td>\n",
       "      <td>73.61</td>\n",
       "      <td>0.00</td>\n",
       "      <td>8.48</td>\n",
       "      <td>1.57</td>\n",
       "      <td>0.0</td>\n",
       "      <td>7</td>\n",
       "    </tr>\n",
       "    <tr>\n",
       "      <th>213</th>\n",
       "      <td>1.51711</td>\n",
       "      <td>14.23</td>\n",
       "      <td>0.00</td>\n",
       "      <td>2.08</td>\n",
       "      <td>73.36</td>\n",
       "      <td>0.00</td>\n",
       "      <td>8.62</td>\n",
       "      <td>1.67</td>\n",
       "      <td>0.0</td>\n",
       "      <td>7</td>\n",
       "    </tr>\n",
       "  </tbody>\n",
       "</table>\n",
       "<p>214 rows × 10 columns</p>\n",
       "</div>"
      ],
      "text/plain": [
       "          RI     Na    Mg    Al     Si     K    Ca    Ba   Fe  Type\n",
       "0    1.52101  13.64  4.49  1.10  71.78  0.06  8.75  0.00  0.0     1\n",
       "1    1.51761  13.89  3.60  1.36  72.73  0.48  7.83  0.00  0.0     1\n",
       "2    1.51618  13.53  3.55  1.54  72.99  0.39  7.78  0.00  0.0     1\n",
       "3    1.51766  13.21  3.69  1.29  72.61  0.57  8.22  0.00  0.0     1\n",
       "4    1.51742  13.27  3.62  1.24  73.08  0.55  8.07  0.00  0.0     1\n",
       "..       ...    ...   ...   ...    ...   ...   ...   ...  ...   ...\n",
       "209  1.51623  14.14  0.00  2.88  72.61  0.08  9.18  1.06  0.0     7\n",
       "210  1.51685  14.92  0.00  1.99  73.06  0.00  8.40  1.59  0.0     7\n",
       "211  1.52065  14.36  0.00  2.02  73.42  0.00  8.44  1.64  0.0     7\n",
       "212  1.51651  14.38  0.00  1.94  73.61  0.00  8.48  1.57  0.0     7\n",
       "213  1.51711  14.23  0.00  2.08  73.36  0.00  8.62  1.67  0.0     7\n",
       "\n",
       "[214 rows x 10 columns]"
      ]
     },
     "execution_count": 2,
     "metadata": {},
     "output_type": "execute_result"
    }
   ],
   "source": [
    "glass_data = pd.read_csv('glass.csv')\n",
    "glass_data"
   ]
  },
  {
   "cell_type": "code",
   "execution_count": 3,
   "metadata": {},
   "outputs": [
    {
     "data": {
      "text/plain": [
       "RI      0\n",
       "Na      0\n",
       "Mg      0\n",
       "Al      0\n",
       "Si      0\n",
       "K       0\n",
       "Ca      0\n",
       "Ba      0\n",
       "Fe      0\n",
       "Type    0\n",
       "dtype: int64"
      ]
     },
     "execution_count": 3,
     "metadata": {},
     "output_type": "execute_result"
    }
   ],
   "source": [
    "glass_data.isna().sum()"
   ]
  },
  {
   "cell_type": "code",
   "execution_count": 4,
   "metadata": {},
   "outputs": [
    {
     "data": {
      "text/plain": [
       "RI      float64\n",
       "Na      float64\n",
       "Mg      float64\n",
       "Al      float64\n",
       "Si      float64\n",
       "K       float64\n",
       "Ca      float64\n",
       "Ba      float64\n",
       "Fe      float64\n",
       "Type      int64\n",
       "dtype: object"
      ]
     },
     "execution_count": 4,
     "metadata": {},
     "output_type": "execute_result"
    }
   ],
   "source": [
    "glass_data.dtypes"
   ]
  },
  {
   "cell_type": "code",
   "execution_count": 5,
   "metadata": {},
   "outputs": [
    {
     "data": {
      "text/plain": [
       "(214, 10)"
      ]
     },
     "execution_count": 5,
     "metadata": {},
     "output_type": "execute_result"
    }
   ],
   "source": [
    "glass_data.shape"
   ]
  },
  {
   "cell_type": "markdown",
   "metadata": {},
   "source": [
    "## Model Building"
   ]
  },
  {
   "cell_type": "code",
   "execution_count": 8,
   "metadata": {},
   "outputs": [],
   "source": [
    "X = glass_data.drop(['Type'],axis=1)\n",
    "y = glass_data['Type']"
   ]
  },
  {
   "cell_type": "code",
   "execution_count": 9,
   "metadata": {},
   "outputs": [
    {
     "data": {
      "text/plain": [
       "((171, 9), (171,), (43, 9), (43,))"
      ]
     },
     "execution_count": 9,
     "metadata": {},
     "output_type": "execute_result"
    }
   ],
   "source": [
    "X_train,X_test,y_train,y_test = train_test_split(X,y,test_size=0.20,random_state= 12,stratify=y)\n",
    "X_train.shape,y_train.shape,X_test.shape,y_test.shape"
   ]
  },
  {
   "cell_type": "markdown",
   "metadata": {},
   "source": [
    "## Model Training | Testing | Evaluation without NORMALIZATION\n",
    "### Generating a Model with K = 3"
   ]
  },
  {
   "cell_type": "code",
   "execution_count": 10,
   "metadata": {},
   "outputs": [
    {
     "name": "stdout",
     "output_type": "stream",
     "text": [
      "Accuracy score:  0.6977\n"
     ]
    }
   ],
   "source": [
    "knn_model = KNeighborsClassifier(n_neighbors=3)\n",
    "knn_model.fit(X_train,y_train)\n",
    "y_pred = knn_model.predict(X_test)\n",
    "print(\"Accuracy score: \", round(accuracy_score(y_test,y_pred),4))"
   ]
  },
  {
   "cell_type": "markdown",
   "metadata": {},
   "source": [
    "### Generating a Model with K = 5"
   ]
  },
  {
   "cell_type": "code",
   "execution_count": 11,
   "metadata": {},
   "outputs": [
    {
     "name": "stdout",
     "output_type": "stream",
     "text": [
      "Accuracy score:  0.6279\n"
     ]
    }
   ],
   "source": [
    "knn_model = KNeighborsClassifier(n_neighbors=5)\n",
    "knn_model.fit(X_train,y_train)\n",
    "y_pred = knn_model.predict(X_test)\n",
    "print(\"Accuracy score: \", round(accuracy_score(y_test,y_pred),4))"
   ]
  },
  {
   "cell_type": "markdown",
   "metadata": {},
   "source": [
    "### Generating a Model with K = 7"
   ]
  },
  {
   "cell_type": "code",
   "execution_count": 12,
   "metadata": {},
   "outputs": [
    {
     "name": "stdout",
     "output_type": "stream",
     "text": [
      "Accuracy score:  0.6279\n"
     ]
    }
   ],
   "source": [
    "knn_model = KNeighborsClassifier(n_neighbors=7)\n",
    "knn_model.fit(X_train,y_train)\n",
    "y_pred = knn_model.predict(X_test)\n",
    "print(\"Accuracy score: \", round(accuracy_score(y_test,y_pred),4))"
   ]
  },
  {
   "cell_type": "markdown",
   "metadata": {},
   "source": [
    "## Model Training | Testing | Evaluation with NORMALIZATION\n",
    "### Generating a Model with K = 3"
   ]
  },
  {
   "cell_type": "code",
   "execution_count": 13,
   "metadata": {},
   "outputs": [],
   "source": [
    "scaler   = StandardScaler()\n",
    "scaled_X = scaler.fit_transform(X)"
   ]
  },
  {
   "cell_type": "code",
   "execution_count": 14,
   "metadata": {},
   "outputs": [
    {
     "data": {
      "text/plain": [
       "((171, 9), (171,), (43, 9), (43,))"
      ]
     },
     "execution_count": 14,
     "metadata": {},
     "output_type": "execute_result"
    }
   ],
   "source": [
    "X_train,X_test,y_train,y_test = train_test_split(scaled_X,y,test_size=0.20,random_state= 12,stratify=y)\n",
    "X_train.shape,y_train.shape,X_test.shape,y_test.shape"
   ]
  },
  {
   "cell_type": "code",
   "execution_count": 15,
   "metadata": {},
   "outputs": [
    {
     "data": {
      "text/plain": [
       "array([[-1.20610400e-01,  3.70875159e-01,  8.65488567e-01, ...,\n",
       "        -5.26095044e-01, -3.52876828e-01,  9.56587946e-01],\n",
       "       [-1.70159374e+00, -5.00618371e-01, -1.86551055e+00, ...,\n",
       "        -1.42761494e+00, -3.52876828e-01, -5.86450902e-01],\n",
       "       [-1.73419864e-01, -4.02421917e-01,  5.59727851e-01, ...,\n",
       "        -3.28887568e-01, -3.52876828e-01, -5.86450902e-01],\n",
       "       ...,\n",
       "       [ 1.24253390e+00,  9.84602997e-01,  7.89048388e-01, ...,\n",
       "         4.31769840e-01, -3.52876828e-01, -5.86450902e-01],\n",
       "       [-3.61553581e-01,  1.58605628e+00, -1.86551055e+00, ...,\n",
       "        -4.90385747e-03,  9.77617652e-01, -5.86450902e-01],\n",
       "       [ 4.25267336e+00, -3.28694275e+00, -1.86551055e+00, ...,\n",
       "         3.05885515e+00,  5.99721046e+00,  2.29388828e+00]])"
      ]
     },
     "execution_count": 15,
     "metadata": {},
     "output_type": "execute_result"
    }
   ],
   "source": [
    "X_train"
   ]
  },
  {
   "cell_type": "code",
   "execution_count": 16,
   "metadata": {},
   "outputs": [
    {
     "data": {
      "text/plain": [
       "array([[ 4.77197670e-02, -2.55127236e-01,  6.57015352e-01,\n",
       "        -7.52670580e-01,  2.31729707e-01,  1.12106515e-01,\n",
       "        -3.85232561e-01, -1.71445763e-01,  1.16232646e+00],\n",
       "       [-7.51023380e-01,  1.96656754e+00, -1.86551055e+00,\n",
       "         2.13830494e+00,  5.16433114e-01, -6.87074327e-01,\n",
       "        -8.94213472e-02,  7.15550557e-01, -5.86450902e-01],\n",
       "       [ 1.23593271e+00,  9.60053883e-01,  7.61251959e-01,\n",
       "        -1.07389008e+00, -1.67060670e+00, -4.10434805e-01,\n",
       "         1.28915501e-01, -3.52876828e-01,  3.21971159e+00],\n",
       "       [-5.45985699e-02, -9.67051528e-01,  5.24430284e-02,\n",
       "        -1.23449983e+00,  1.49995398e+00, -2.26008457e-01,\n",
       "         3.26122977e-01, -3.52876828e-01,  1.47093423e+00],\n",
       "       [ 1.83044019e-01,  6.40112399e-02,  7.95997495e-01,\n",
       "        -3.71222421e-01, -1.30620085e-01,  1.12106515e-01,\n",
       "        -5.26095044e-01, -3.52876828e-01,  8.53718690e-01],\n",
       "       [ 1.12371260e+00, -2.55127236e-01,  6.91760888e-01,\n",
       "        -5.92060829e-01,  1.28201195e-01,  6.59999275e-02,\n",
       "        -3.07758196e-01, -3.52876828e-01, -5.86450902e-01],\n",
       "       [-5.72791438e-01, -5.86540268e-01,  5.94473387e-01,\n",
       "         3.51521459e-01,  3.99963538e-01,  2.19688551e-01,\n",
       "        -6.52871279e-01, -3.52876828e-01,  1.57380349e+00],\n",
       "       [-7.21318056e-01, -4.88343814e-01,  5.66676959e-01,\n",
       "         7.04543943e-02,  3.09376090e-01,  1.58213102e-01,\n",
       "        -5.89483162e-01, -3.52876828e-01, -5.86450902e-01],\n",
       "       [ 1.57919423e+00,  3.94621264e-02,  4.55491244e-01,\n",
       "        -4.31451078e-01, -3.50618173e-01,  1.58213102e-01,\n",
       "        -8.94213472e-02, -3.52876828e-01, -5.86450902e-01],\n",
       "       [ 2.02847568e-01,  2.11305921e-01,  4.62440351e-01,\n",
       "        -4.31451078e-01, -7.38850093e-01,  1.42844239e-01,\n",
       "        -3.30763541e-02, -3.52876828e-01, -5.86450902e-01],\n",
       "       [ 1.17032189e-01, -5.86540268e-01,  6.77862673e-01,\n",
       "         2.31064145e-01, -1.82384341e-01,  1.27475377e-01,\n",
       "        -2.86628823e-01, -3.52876828e-01,  6.47980177e-01],\n",
       "       [ 4.37189566e-01, -9.42502414e-01, -1.86551055e+00,\n",
       "         4.11750115e-01,  1.42230759e+00, -1.79901870e-01,\n",
       "         1.81222217e+00, -3.52876828e-01, -5.86450902e-01],\n",
       "       [-7.24618648e-01,  1.89292020e+00, -1.86551055e+00,\n",
       "         1.65647569e+00,  8.39959714e-01, -7.63918639e-01,\n",
       "        -1.73938837e-01,  9.97776659e-01, -5.86450902e-01],\n",
       "       [-1.08438312e+00,  2.13841133e+00, -1.86551055e+00,\n",
       "         1.61632325e+00,  1.09878099e+00, -7.63918639e-01,\n",
       "        -4.34534430e-01,  9.17140630e-01, -5.86450902e-01],\n",
       "       [-1.76720456e-01, -8.81129630e-01,  5.94473387e-01,\n",
       "        -2.10612670e-01,  3.87022474e-01,  1.12106515e-01,\n",
       "        -1.45766340e-01, -3.52876828e-01, -5.86450902e-01],\n",
       "       [-8.43038936e-02, -5.49716598e-01,  1.91425172e-01,\n",
       "        -2.99267001e-02,  3.48199282e-01,  1.58213102e-01,\n",
       "        -1.17593844e-01, -7.06507264e-02, -5.86450902e-01],\n",
       "       [-7.93931069e-01, -7.58384063e-01,  6.43117137e-01,\n",
       "         3.51521459e-01,  4.12904602e-01,  2.19688551e-01,\n",
       "        -6.24698782e-01, -3.52876828e-01,  2.08814977e+00],\n",
       "       [-2.42732286e-01, -7.46109506e-01,  6.77862673e-01,\n",
       "        -3.51146202e-01,  4.64668858e-01,  1.58213102e-01,\n",
       "        -2.79585699e-01, -3.52876828e-01, -5.86450902e-01],\n",
       "       [-5.00178424e-01,  1.85609653e+00, -1.86551055e+00,\n",
       "         1.09434156e+00,  5.29374178e-01, -7.63918639e-01,\n",
       "        -3.92275686e-01,  2.85240533e+00, -5.86450902e-01],\n",
       "       [-3.81357130e-01, -6.60187609e-01,  5.52778744e-01,\n",
       "        -2.30688889e-01,  5.03492050e-01,  9.67376522e-02,\n",
       "        -3.71146313e-01, -3.52876828e-01, -5.86450902e-01],\n",
       "       [-7.21318056e-01,  1.49933137e-01,  6.01422494e-01,\n",
       "         1.90911708e-01,  4.38786730e-01, -1.64533008e-01,\n",
       "        -8.28949383e-01, -3.52876828e-01, -5.86450902e-01],\n",
       "       [-2.39431695e-01, -5.25167484e-01,  5.94473387e-01,\n",
       "        -4.71603516e-01,  4.51727794e-01,  2.35057413e-01,\n",
       "        -3.00715072e-01, -3.52876828e-01, -5.86450902e-01],\n",
       "       [-2.92241159e-01, -6.72462165e-01,  6.08371602e-01,\n",
       "        -3.51146202e-01,  7.23490138e-01,  6.59999275e-02,\n",
       "        -4.06361934e-01, -3.52876828e-01,  1.16232646e+00],\n",
       "       [ 1.89275042e+00,  5.18169840e-01,  1.49730529e-01,\n",
       "        -5.51908391e-01, -1.94236904e+00, -6.40967740e-01,\n",
       "         1.29103099e+00, -3.52876828e-01, -5.86450902e-01],\n",
       "       [ 6.81433338e-01, -3.41852141e-02, -1.86551055e+00,\n",
       "        -9.01553568e-02, -5.18852005e-01, -2.56746182e-01,\n",
       "         2.49540521e+00, -3.52876828e-01, -5.86450902e-01],\n",
       "       [ 1.69841653e-01,  1.94201842e+00, -1.32348019e+00,\n",
       "         5.92436086e-01, -1.95325405e-01, -7.63918639e-01,\n",
       "         6.99408557e-01, -3.52876828e-01, -5.86450902e-01],\n",
       "       [-2.32830512e-01, -2.42852679e-01,  6.98709995e-01,\n",
       "        -3.10993765e-01, -5.29737012e-02,  1.12106515e-01,\n",
       "        -5.19051920e-01, -3.52876828e-01, -5.86450902e-01],\n",
       "       [-8.66544083e-01,  1.78244919e+00,  6.84811780e-01,\n",
       "         5.92436086e-01, -1.01061244e+00, -5.18016841e-01,\n",
       "        -1.12476060e+00, -3.52876828e-01,  6.47980177e-01],\n",
       "       [-9.42056681e-02,  2.71875696e-02,  1.28883207e-01,\n",
       "        -5.11755954e-01,  2.44670771e-01,  8.13687898e-02,\n",
       "         5.14411357e-02, -3.52876828e-01, -5.86450902e-01],\n",
       "       [ 7.63948126e-01,  1.74482251e-01, -4.13147152e-01,\n",
       "         4.51902553e-01, -6.09439453e-01,  5.06310652e-02,\n",
       "         4.31769840e-01,  1.91416368e-01,  1.16232646e+00],\n",
       "       [ 7.54046351e-01,  1.16872135e+00, -1.86551055e+00,\n",
       "         1.15457021e+00,  9.95252482e-01, -7.63918639e-01,\n",
       "        -3.64103189e-01,  2.95320036e+00, -5.86450902e-01],\n",
       "       [-4.27565411e-01,  8.85603534e-02,  5.52778744e-01,\n",
       "         5.32207429e-01, -1.69443277e-01,  1.88950826e-01,\n",
       "        -6.81043776e-01, -3.52876828e-01, -5.86450902e-01],\n",
       "       [ 1.47138519e-02, -5.86540268e-01,  7.33455531e-01,\n",
       "        -6.72365705e-01, -4.80028813e-01,  2.19688551e-01,\n",
       "         2.13926668e-03, -3.52876828e-01,  1.67667274e+00],\n",
       "       [-5.66190255e-01, -3.28774576e-01,  5.31931423e-01,\n",
       "         6.32588523e-01, -2.21207533e-01,  1.58213102e-01,\n",
       "        -4.06361934e-01, -3.52876828e-01,  1.16232646e+00],\n",
       "       [-5.36484931e-01, -6.60187609e-01,  6.08371602e-01,\n",
       "         3.91673897e-01,  6.32902690e-01,  2.35057413e-01,\n",
       "        -6.81043776e-01, -3.52876828e-01, -5.86450902e-01],\n",
       "       [-1.93223414e-01, -2.42852679e-01,  8.71885642e-02,\n",
       "        -3.10993765e-01,  4.25845666e-01,  1.98933405e-02,\n",
       "         4.43980116e-02, -3.52876828e-01,  3.39372407e-01],\n",
       "       [ 3.31570637e-01,  4.69071613e-01, -1.90775722e-01,\n",
       "        -5.11755954e-01,  1.41142259e-01, -7.63918639e-01,\n",
       "         5.72632323e-01, -3.52876828e-01, -5.86450902e-01],\n",
       "       [ 1.27553981e+00, -2.42852679e-01,  7.54302852e-01,\n",
       "        -1.31480471e+00, -8.55319668e-01, -5.64123428e-01,\n",
       "         7.48710426e-01, -3.52876828e-01, -5.86450902e-01],\n",
       "       [-5.39785523e-01, -1.32381668e-01,  6.63964459e-01,\n",
       "         1.70835489e-01, -1.56502213e-01,  2.35057413e-01,\n",
       "        -6.52871279e-01, -3.52876828e-01,  2.39675754e+00],\n",
       "       [-7.47722788e-01, -9.55579979e-02,  5.87524280e-01,\n",
       "        -2.10612670e-01,  2.46726827e-02,  9.67376522e-02,\n",
       "        -4.41577555e-01, -3.52876828e-01, -5.86450902e-01],\n",
       "       [-1.71809669e+00, -4.76069257e-01, -1.86551055e+00,\n",
       "         3.20234454e+00, -2.80942033e+00,  8.78014487e+00,\n",
       "        -1.40648556e+00, -3.52876828e-01, -5.86450902e-01],\n",
       "       [-3.31848257e-01, -7.70658619e-01,  6.50066245e-01,\n",
       "        -3.10993765e-01,  1.79965451e-01,  1.42844239e-01,\n",
       "        -1.80981961e-01, -3.52876828e-01, -5.86450902e-01],\n",
       "       [-3.08744117e-01, -1.32381668e-01,  6.36168030e-01,\n",
       "        -6.12137048e-01,  5.68197370e-01,  1.27475377e-01,\n",
       "        -5.54267541e-01, -3.52876828e-01, -5.86450902e-01]])"
      ]
     },
     "execution_count": 16,
     "metadata": {},
     "output_type": "execute_result"
    }
   ],
   "source": [
    "X_test"
   ]
  },
  {
   "cell_type": "code",
   "execution_count": 17,
   "metadata": {},
   "outputs": [
    {
     "name": "stdout",
     "output_type": "stream",
     "text": [
      "Accuracy score:  0.7674\n"
     ]
    }
   ],
   "source": [
    "knn_model = KNeighborsClassifier(n_neighbors=3)\n",
    "knn_model.fit(X_train,y_train)\n",
    "y_pred = knn_model.predict(X_test)\n",
    "print(\"Accuracy score: \", round(accuracy_score(y_test,y_pred),4))"
   ]
  },
  {
   "cell_type": "markdown",
   "metadata": {},
   "source": [
    "### Generating a Model with K = 5 "
   ]
  },
  {
   "cell_type": "code",
   "execution_count": 18,
   "metadata": {},
   "outputs": [
    {
     "name": "stdout",
     "output_type": "stream",
     "text": [
      "Accuracy score:  0.6512\n"
     ]
    }
   ],
   "source": [
    "knn_model = KNeighborsClassifier(n_neighbors=5)\n",
    "knn_model.fit(X_train,y_train)\n",
    "y_pred = knn_model.predict(X_test)\n",
    "print(\"Accuracy score: \", round(accuracy_score(y_test,y_pred),4))"
   ]
  },
  {
   "cell_type": "markdown",
   "metadata": {},
   "source": [
    "### Generating a Model with K = 7"
   ]
  },
  {
   "cell_type": "code",
   "execution_count": 19,
   "metadata": {},
   "outputs": [
    {
     "name": "stdout",
     "output_type": "stream",
     "text": [
      "Accuracy score:  0.6279\n"
     ]
    }
   ],
   "source": [
    "knn_model = KNeighborsClassifier(n_neighbors=7)\n",
    "knn_model.fit(X_train,y_train)\n",
    "y_pred = knn_model.predict(X_test)\n",
    "print(\"Accuracy score: \", round(accuracy_score(y_test,y_pred),4))"
   ]
  },
  {
   "cell_type": "code",
   "execution_count": 20,
   "metadata": {},
   "outputs": [],
   "source": [
    "# How to pick up optimum no of k?\n",
    "neighbours = list(range(1,50,2))\n",
    "cv_scores = []\n",
    "\n",
    "for i in neighbours:\n",
    "    #print(i)\n",
    "    knn_model = KNeighborsClassifier(n_neighbors = i)\n",
    "    cv_score = cross_val_score(estimator = knn_model,X=scaled_X,y=y,cv=10)\n",
    "    #print(i,'-',cv_score.mean())\n",
    "    cv_scores.append(cv_score.mean())"
   ]
  },
  {
   "cell_type": "code",
   "execution_count": 21,
   "metadata": {},
   "outputs": [
    {
     "data": {
      "text/plain": [
       "[0.6582251082251082,\n",
       " 0.691125541125541,\n",
       " 0.6632034632034632,\n",
       " 0.6257575757575757,\n",
       " 0.620995670995671,\n",
       " 0.6162337662337661,\n",
       " 0.6023809523809524,\n",
       " 0.5928571428571429,\n",
       " 0.5837662337662338,\n",
       " 0.5932900432900434,\n",
       " 0.5844155844155845,\n",
       " 0.5655844155844155,\n",
       " 0.5796536796536796,\n",
       " 0.583982683982684,\n",
       " 0.5794372294372295,\n",
       " 0.5701298701298702,\n",
       " 0.5608225108225107,\n",
       " 0.5885281385281386,\n",
       " 0.5837662337662337,\n",
       " 0.579004329004329,\n",
       " 0.5841991341991342,\n",
       " 0.5837662337662336,\n",
       " 0.5837662337662338,\n",
       " 0.5701298701298702,\n",
       " 0.5517316017316017]"
      ]
     },
     "execution_count": 21,
     "metadata": {},
     "output_type": "execute_result"
    }
   ],
   "source": [
    "cv_scores"
   ]
  },
  {
   "cell_type": "code",
   "execution_count": 22,
   "metadata": {},
   "outputs": [
    {
     "data": {
      "text/plain": [
       "3"
      ]
     },
     "execution_count": 22,
     "metadata": {},
     "output_type": "execute_result"
    }
   ],
   "source": [
    "neighbours[cv_scores.index(max(cv_scores))]"
   ]
  },
  {
   "cell_type": "markdown",
   "metadata": {},
   "source": [
    "## Vizualizing the K neighbours wrt CV"
   ]
  },
  {
   "cell_type": "code",
   "execution_count": 23,
   "metadata": {},
   "outputs": [
    {
     "data": {
      "text/plain": [
       "[<matplotlib.lines.Line2D at 0x1a69d96a130>]"
      ]
     },
     "execution_count": 23,
     "metadata": {},
     "output_type": "execute_result"
    },
    {
     "data": {
      "image/png": "[encoded data removed]",
      "text/plain": [
       "<Figure size 432x288 with 1 Axes>"
      ]
     },
     "metadata": {
      "needs_background": "light"
     },
     "output_type": "display_data"
    }
   ],
   "source": [
    "plt.plot(neighbours,cv_scores)"
   ]
  },
  {
   "cell_type": "markdown",
   "metadata": {},
   "source": [
    "## Rebuild the Model by choosing 3 as the neighrest neighbour"
   ]
  },
  {
   "cell_type": "code",
   "execution_count": 24,
   "metadata": {},
   "outputs": [
    {
     "name": "stdout",
     "output_type": "stream",
     "text": [
      "Accuracy score:  0.7674\n"
     ]
    }
   ],
   "source": [
    "knn_model = KNeighborsClassifier(n_neighbors=3)\n",
    "knn_model.fit(X_train,y_train)\n",
    "y_pred = knn_model.predict(X_test)\n",
    "print(\"Accuracy score: \", round(accuracy_score(y_test,y_pred),4))"
   ]
  }
 ],
 "metadata": {
  "kernelspec": {
   "display_name": "Python 3",
   "language": "python",
   "name": "python3"
  },
  "language_info": {
   "codemirror_mode": {
    "name": "ipython",
    "version": 3
   },
   "file_extension": ".py",
   "mimetype": "text/x-python",
   "name": "python",
   "nbconvert_exporter": "python",
   "pygments_lexer": "ipython3",
   "version": "3.8.8"
  }
 },
 "nbformat": 4,
 "nbformat_minor": 4
}
